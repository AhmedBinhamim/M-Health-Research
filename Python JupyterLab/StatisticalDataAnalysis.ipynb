{
 "cells": [
  {
   "cell_type": "markdown",
   "id": "9d73f2bf-72ea-49ed-9744-09eb0ec8c995",
   "metadata": {},
   "source": [
    "# Installing required libraries"
   ]
  },
  {
   "cell_type": "code",
   "execution_count": 1,
   "id": "903e0703-c756-48cf-9c52-ef8a36f39901",
   "metadata": {},
   "outputs": [
    {
     "name": "stdout",
     "output_type": "stream",
     "text": [
      "Requirement already satisfied: geopy in c:\\users\\mokhm\\anaconda3\\lib\\site-packages (2.2.0)\n",
      "Requirement already satisfied: geographiclib<2,>=1.49 in c:\\users\\mokhm\\anaconda3\\lib\\site-packages (from geopy) (1.52)\n"
     ]
    }
   ],
   "source": [
    "!pip install geopy"
   ]
  },
  {
   "cell_type": "markdown",
   "id": "5bebfcee-88e2-4d1a-83d7-441b15adf81a",
   "metadata": {},
   "source": [
    "# Importing required libraries"
   ]
  },
  {
   "cell_type": "code",
   "execution_count": 2,
   "id": "877fe367-e115-4dba-86e6-67ceec3cf500",
   "metadata": {},
   "outputs": [],
   "source": [
    "import time as t\n",
    "import numpy as np\n",
    "import math as m\n",
    "import pandas as pd\n",
    "import seaborn as sns\n",
    "import csv\n",
    "import geopy.distance\n",
    "import matplotlib.pyplot as plt"
   ]
  },
  {
   "cell_type": "markdown",
   "id": "853367ce-8fdf-46b9-9763-1c45e210c42f",
   "metadata": {},
   "source": [
    "# Read data from csv file to a list"
   ]
  },
  {
   "cell_type": "code",
   "execution_count": 3,
   "id": "27200999-771a-4d40-8b2a-c93d90a3e164",
   "metadata": {},
   "outputs": [],
   "source": [
    "def read_csv(file_name):\n",
    "    data_list = list()\n",
    "    with open(file_name, newline='') as csvfile:\n",
    "        file_reader = csv.reader(csvfile, delimiter=',')\n",
    "        next(csvfile)\n",
    "        for line in file_reader:\n",
    "            no = int(line[0])\n",
    "            lat = float(line[1])\n",
    "            lon = float(line[2])\n",
    "            data = (no, lat, lon)\n",
    "            data_list.append(data)\n",
    "    return data_list"
   ]
  },
  {
   "cell_type": "code",
   "execution_count": 4,
   "id": "ff725e9f-4da1-4902-8f58-01974f754c94",
   "metadata": {},
   "outputs": [],
   "source": [
    "ppv = read_csv(\"ppv.csv\")\n",
    "people = read_csv(\"people.csv\")"
   ]
  },
  {
   "cell_type": "markdown",
   "id": "a10836e7-5b23-4020-b3ec-8a458d93c6d2",
   "metadata": {},
   "source": [
    "# Method 1: Vincenty’s Formulae\n",
    "Assumes the Earth is an oblate spheroid"
   ]
  },
  {
   "cell_type": "code",
   "execution_count": 3,
   "id": "66c36d99-39f8-4e88-858c-1d8cf5611a14",
   "metadata": {},
   "outputs": [],
   "source": [
    "def vincenty_formula(person, ppv):\n",
    "    person_pos = (person[1], person[2])\n",
    "    ppv_pos = (ppv[1], ppv[2])\n",
    "    dist = geopy.distance.geodesic(person_pos,ppv_pos).km\n",
    "    return dist\n",
    "\n",
    "\n",
    "def solution_method1(person, ppv_list):\n",
    "    i = 0\n",
    "    nearest_ppv = i\n",
    "    min_dist = vincenty_formula(person, ppv_list[i])\n",
    "    while i < len(ppv) - 1:\n",
    "        i += 1\n",
    "        new_dist = vincenty_formula(person, ppv_list[i])\n",
    "        if new_dist < min_dist:\n",
    "            min_dist = new_dist\n",
    "            nearest_ppv = i\n",
    "    \n",
    "    return nearest_ppv, person[0], round(min_dist,2)\n",
    "\n",
    "\n",
    "def assign_method1(people, ppv_list):\n",
    "    results_list = list()\n",
    "    i = 0\n",
    "    while i < len(people):\n",
    "        nearest_ppv, person, dist = solution_method1(people[i], ppv)\n",
    "        result = (nearest_ppv, person, dist)\n",
    "        results_list.append(result)\n",
    "        i += 1\n",
    "    \n",
    "    return results_list\n",
    "\n",
    "\n",
    "def method1_launcher():\n",
    "    start = t.perf_counter()\n",
    "    result = assign_method1(people,ppv)\n",
    "    end = t.perf_counter()\n",
    "    comp_time = end - start\n",
    "    with open(\"method1solution.csv\", \"w\") as file:\n",
    "        data_writer = csv.writer(file)\n",
    "        data_writer.writerow([\"PPV\", \"Person\", \"Distance\"])\n",
    "        data_writer.writerows(result)\n",
    "    return comp_time\n",
    "\n",
    "method1_launcher()"
   ]
  },
  {
   "cell_type": "markdown",
   "id": "e0849759-5b3c-4180-9cad-cfbee5bc8e0c",
   "metadata": {},
   "source": [
    "# Method 2: Haversine Formula\n",
    "Assumes the Earth is a sphere. Approximated radius R = 6371 km"
   ]
  },
  {
   "cell_type": "code",
   "execution_count": 4,
   "id": "9fd58970-409f-4e7f-8e55-e49377ce3b08",
   "metadata": {},
   "outputs": [],
   "source": [
    "R = 6371\n",
    "def haversine_formula(person,ppv):\n",
    "    lat1 = m.radians(person[1])\n",
    "    lat2 = m.radians(ppv[1])\n",
    "    lon1 = m.radians(person[2])\n",
    "    lon2 = m.radians(ppv[2])\n",
    "    dlon = lon2 - lon1\n",
    "    dlat = lat2 - lat1\n",
    "    a = (m.sin(dlat/2))**2 + m.cos(lat1) * m.cos(lat2) * (m.sin(dlon/2))**2\n",
    "    c = 2 * m.atan2(m.sqrt(a), m.sqrt(1-a))\n",
    "    d = R * c\n",
    "    return d\n",
    "\n",
    "\n",
    "def solution_method2(person, ppv_list):\n",
    "    i = 0\n",
    "    nearest_ppv = i\n",
    "    min_dist = haversine_formula(person, ppv_list[i])\n",
    "    while i < len(ppv) - 1:\n",
    "        i += 1\n",
    "        new_dist = haversine_formula(person, ppv_list[i])\n",
    "        if new_dist < min_dist:\n",
    "            min_dist = new_dist\n",
    "            nearest_ppv = i    \n",
    "    return nearest_ppv, person[0], round(min_dist,2)\n",
    "\n",
    "def assign_method2(people, ppv_list):\n",
    "    results_list = list()\n",
    "    i = 0\n",
    "    while i < len(people):\n",
    "        nearest_ppv, person, dist = solution_method2(people[i], ppv_list)\n",
    "        result = (nearest_ppv, person, dist)\n",
    "        results_list.append(result)\n",
    "        i += 1\n",
    "    return results_list\n",
    "\n",
    "def method2_launcher():\n",
    "    start = t.perf_counter()\n",
    "    result = assign_method2(people,ppv)\n",
    "    end = t.perf_counter()\n",
    "    comp_time = end - start\n",
    "    with open(\"method2solution.csv\", \"w\") as file:\n",
    "        data_writer = csv.writer(file)\n",
    "        data_writer.writerow([\"PPV\", \"Person\", \"Distance\"])\n",
    "        data_writer.writerows(result)\n",
    "    return comp_time\n",
    "\n",
    "method2_launcher()"
   ]
  },
  {
   "cell_type": "markdown",
   "id": "467e8b0e-fd3c-446b-8455-bf4ebc1793b9",
   "metadata": {},
   "source": [
    "# Read data from csv file to a DataFrame"
   ]
  },
  {
   "cell_type": "code",
   "execution_count": 17,
   "id": "5200c76c-1342-4c66-b76b-55468eea759f",
   "metadata": {},
   "outputs": [],
   "source": [
    "def read_csv2(file_name):\n",
    "    data_list = pd.read_csv(file_name)\n",
    "    return data_list"
   ]
  },
  {
   "cell_type": "code",
   "execution_count": 18,
   "id": "04e4a380-e9e5-4f93-8fde-afcef562c380",
   "metadata": {},
   "outputs": [],
   "source": [
    "ppv_centers = read_csv2(\"ppv.csv\")\n",
    "people_list = read_csv2(\"people.csv\")"
   ]
  },
  {
   "cell_type": "markdown",
   "id": "b2d65bf8-e72b-4374-925d-505143d6e709",
   "metadata": {},
   "source": [
    "# Method 3: Reading data to a DataFrame & using Numpy array to store results & using For-Loop"
   ]
  },
  {
   "cell_type": "code",
   "execution_count": 5,
   "id": "157a92ec-f82c-4349-a2d1-41bcae55d852",
   "metadata": {},
   "outputs": [],
   "source": [
    "def solution_method3(ppv_centers, people_list):\n",
    "    result_data = np.empty([0,3])\n",
    "    for i in range(len(people_list)):\n",
    "        min_dist = haversine_formula(list(people_list[[\"People\", \"Lat\", \"Lon\"]].iloc[i]), list(ppv_centers[[\"PPV\", \"Lat\", \"Lon\"]].iloc[0]))\n",
    "        nearest_ppv = 0\n",
    "        j = 1\n",
    "        for j in range(len(ppv_centers)-1):\n",
    "            dist = haversine_formula(people_list.iloc[i], ppv_centers.iloc[j])\n",
    "            if dist < min_dist:\n",
    "                min_dist = dist\n",
    "                nearest_ppv = j\n",
    "        result_data = np.append(result_data, np.array([[nearest_ppv, i, round(min_dist,2)]]), axis=0)\n",
    "        \n",
    "    return result_data\n",
    "\n",
    "def method3_launcher():\n",
    "    start = t.perf_counter()\n",
    "    result_array = solution_method3(ppv_centers, people_list)\n",
    "    end = t.perf_counter()\n",
    "    comp_time = end - start\n",
    "    result_df = pd.DataFrame(result_array, columns = [\"PPV\",\"Person\",\"Distance\"])\n",
    "    result_df.to_csv(\"method3solution.csv\", index=False)\n",
    "    return comp_time\n",
    "\n",
    "method3_launcher()"
   ]
  },
  {
   "cell_type": "markdown",
   "id": "b44e98e4-b5a2-4e58-8ffa-85aba17612f8",
   "metadata": {},
   "source": [
    "# Creating Shaded Density Plots"
   ]
  },
  {
   "cell_type": "markdown",
   "id": "df25f28d-1adf-4e73-a7fe-2d4685a9543e",
   "metadata": {},
   "source": [
    "Reading execution time of the 3 methods and storing it to DataFrame"
   ]
  },
  {
   "cell_type": "code",
   "execution_count": 15,
   "id": "c8d13ced-7f42-40ab-921c-b3804dccffa3",
   "metadata": {},
   "outputs": [],
   "source": [
    "methods_exec_times = pd.read_csv(\"methods_runtime.csv\")"
   ]
  },
  {
   "cell_type": "markdown",
   "id": "8c12818c-6754-4958-98a0-3a039802363a",
   "metadata": {},
   "source": [
    "Plotting the data on the chart"
   ]
  },
  {
   "cell_type": "code",
   "execution_count": 16,
   "id": "3ae43184-a9d2-4fdb-957d-977d88af7000",
   "metadata": {},
   "outputs": [
    {
     "data": {
      "text/plain": [
       "Text(0.5, 0, 'Execution Time (sec)')"
      ]
     },
     "execution_count": 16,
     "metadata": {},
     "output_type": "execute_result"
    },
    {
     "data": {
      "image/png": "[encoded data removed]",
      "text/plain": [
       "<Figure size 432x288 with 1 Axes>"
      ]
     },
     "metadata": {
      "needs_background": "light"
     },
     "output_type": "display_data"
    }
   ],
   "source": [
    "sns.kdeplot(data=methods_exec_times, shade=True)\n",
    "plt.xlabel(\"Execution Time (sec)\")"
   ]
  },
  {
   "cell_type": "markdown",
   "id": "072b8323-fb47-4c90-86e5-7bad519a6f45",
   "metadata": {},
   "source": [
    "The computer used to test the methods was computer 1"
   ]
  },
  {
   "cell_type": "markdown",
   "id": "49e55552-aa7e-4a8b-a2da-6e0dad6f6781",
   "metadata": {},
   "source": [
    "For better visualization of data the results for method 2 is multiplied by 100 to decrease the difference between method 2 curve and method 1 & 3 curves "
   ]
  },
  {
   "cell_type": "markdown",
   "id": "5cfaa4de-0e2b-4f13-b37d-032697da0808",
   "metadata": {},
   "source": [
    "From the shaded density plot, all the three methods produce a z-distribution curve. However, the results of method 1 is the closest to normal distribution while both results from method 2 and 3 are positively skewed. Execution time comparison shows that the fastest method is method 2 (as the actual time is time from the graph / 100) then followed by method 3 and the method 1 as the least efficient method "
   ]
  },
  {
   "cell_type": "markdown",
   "id": "1c6f508b-5047-440f-92a4-b9e6ebe56fb5",
   "metadata": {},
   "source": [
    "Reading execution time of the 2 computers and storing it to DataFrame"
   ]
  },
  {
   "cell_type": "code",
   "execution_count": 39,
   "id": "7ccdf333-5f25-466c-8dfc-f2c66750feb1",
   "metadata": {},
   "outputs": [],
   "source": [
    "computers_exec_times = pd.read_csv(\"computers_runtime.csv\")"
   ]
  },
  {
   "cell_type": "markdown",
   "id": "26db8af2-c299-4d54-8be1-353d853eb47b",
   "metadata": {},
   "source": [
    "Plotting the data on the chart"
   ]
  },
  {
   "cell_type": "code",
   "execution_count": 40,
   "id": "c221b4ce-2c5f-406f-9f0e-2c8369a09102",
   "metadata": {},
   "outputs": [
    {
     "data": {
      "text/plain": [
       "Text(0.5, 0, 'Execution Time (sec)')"
      ]
     },
     "execution_count": 40,
     "metadata": {},
     "output_type": "execute_result"
    },
    {
     "data": {
      "image/png": "[encoded data removed]",
      "text/plain": [
       "<Figure size 432x288 with 1 Axes>"
      ]
     },
     "metadata": {
      "needs_background": "light"
     },
     "output_type": "display_data"
    }
   ],
   "source": [
    "sns.kdeplot(data=computers_exec_times, shade=True)\n",
    "plt.xlabel(\"Execution Time (sec)\")"
   ]
  },
  {
   "cell_type": "markdown",
   "id": "23ca90cc-78ab-4482-9ead-98348941c344",
   "metadata": {},
   "source": [
    "The two computers used had the following specifications:"
   ]
  },
  {
   "cell_type": "markdown",
   "id": "275e658f-f968-4141-999a-72ae3e59fe18",
   "metadata": {},
   "source": [
    "Computer 1: 16GB RAM, AMD Ryzen 4800H 2.9 GHz, 1 TB SSD"
   ]
  },
  {
   "cell_type": "markdown",
   "id": "08eec4fe-db60-4b12-ab78-b8f405522c75",
   "metadata": {},
   "source": [
    "Computer 2: 4GB RAM, Intel Core i5 8th Gen 1.6 GHz, 500 GB SSD"
   ]
  },
  {
   "cell_type": "markdown",
   "id": "b27478b2-b617-42ab-8fa2-a95977951bfe",
   "metadata": {},
   "source": [
    "During the experiment both laptops were plugged in at 100% battery life"
   ]
  },
  {
   "cell_type": "markdown",
   "id": "4ee9c126-f0aa-41b5-ad3b-948a655a6ce1",
   "metadata": {},
   "source": [
    "From the shaded density plot the results for computer 2 are normally distributed creating a z-distribution with no skew in the curve while computer 2 results are widely distributed creating a t-distribution and positively skewed. Lastly, from the chart computer 1 performs better than computer 2 as the time of execution computer 1 takes is less compared to computer 2 time"
   ]
  },
  {
   "cell_type": "markdown",
   "id": "a0b744a1-037f-4a53-a0d2-89181e1d01f3",
   "metadata": {},
   "source": [
    "# Testing Each Method for 50 times"
   ]
  },
  {
   "cell_type": "code",
   "execution_count": null,
   "id": "68b7b9cc-71cb-47d8-8b2c-597633d0c725",
   "metadata": {},
   "outputs": [],
   "source": [
    "method1_runtime = list()\n",
    "for i in range(50):\n",
    "    time = method1_launcher()\n",
    "    method1_runtime.append(time)\n",
    "method1_runtime"
   ]
  },
  {
   "cell_type": "code",
   "execution_count": null,
   "id": "2cc29b01-a23c-4698-b160-be48e68a42f2",
   "metadata": {},
   "outputs": [],
   "source": [
    "method2_runtime = list()\n",
    "for i in range(50):\n",
    "    time = method2_launcher()\n",
    "    method2_runtime.append(time)\n",
    "method2_runtime"
   ]
  },
  {
   "cell_type": "code",
   "execution_count": null,
   "id": "992e2f53-7668-44bf-8c8d-077e588c8245",
   "metadata": {},
   "outputs": [],
   "source": [
    "method3_runtime = list()\n",
    "for i in range(50):\n",
    "    time = method3_launcher()\n",
    "    method3_runtime.append(time)\n",
    "method3_runtime"
   ]
  }
 ],
 "metadata": {
  "kernelspec": {
   "display_name": "Python 3",
   "language": "python",
   "name": "python3"
  },
  "language_info": {
   "codemirror_mode": {
    "name": "ipython",
    "version": 3
   },
   "file_extension": ".py",
   "mimetype": "text/x-python",
   "name": "python",
   "nbconvert_exporter": "python",
   "pygments_lexer": "ipython3",
   "version": "3.8.8"
  }
 },
 "nbformat": 4,
 "nbformat_minor": 5
}
